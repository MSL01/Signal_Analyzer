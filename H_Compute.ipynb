{
 "cells": [
  {
   "metadata": {
    "ExecuteTime": {
     "end_time": "2025-09-10T14:06:56.892394Z",
     "start_time": "2025-09-10T14:06:34.101749Z"
    }
   },
   "cell_type": "code",
   "source": [
    "import numpy as np\n",
    "import pandas as pd\n",
    "import matplotlib.pyplot as plt\n",
    "from scipy import signal\n",
    "from scipy.fft import fft, fftfreq\n",
    "from pathlib import Path\n",
    "from sklearn.preprocessing import MinMaxScaler, StandardScaler\n",
    "%matplotlib tk"
   ],
   "id": "137309f82bfa877b",
   "outputs": [],
   "execution_count": 1
  },
  {
   "metadata": {
    "ExecuteTime": {
     "end_time": "2025-09-10T14:07:00.569140Z",
     "start_time": "2025-09-10T14:06:57.700478Z"
    }
   },
   "cell_type": "code",
   "source": [
    "base = Path(\"H:/Outros computadores/My Computer/Desktop/5 Experimento/3-Microphone\")\n",
    "archivo = base / \"T5_3M_T7_AR_4.169m.csv\"\n",
    "df = pd.read_csv(archivo)"
   ],
   "id": "154122a2698896c0",
   "outputs": [],
   "execution_count": 2
  },
  {
   "metadata": {
    "ExecuteTime": {
     "end_time": "2025-09-10T14:07:00.593113Z",
     "start_time": "2025-09-10T14:07:00.589133Z"
    }
   },
   "cell_type": "code",
   "source": "c_teorical = [138.07, 114.79, 95.36, 91.07, 84.24, 80.43, 75.70, 69.34, 64.78, 56.12, 53.45]",
   "id": "d1c4c0caaa48517",
   "outputs": [],
   "execution_count": 3
  },
  {
   "metadata": {
    "ExecuteTime": {
     "end_time": "2025-09-10T14:10:27.792261Z",
     "start_time": "2025-09-10T14:10:27.728303Z"
    }
   },
   "cell_type": "code",
   "source": [
    "time = df['Time (s)'].values\n",
    "time_mask = (time >= 0) & (time <= 27)\n",
    "p1 = df['Channel 0'].values[time_mask]\n",
    "p2 = df['Channel 1'].values[time_mask]\n",
    "p3 = df['Channel 2'].values[time_mask]"
   ],
   "id": "7968b23817850a8",
   "outputs": [],
   "execution_count": 11
  },
  {
   "metadata": {
    "ExecuteTime": {
     "end_time": "2025-09-10T14:10:28.460324Z",
     "start_time": "2025-09-10T14:10:28.452084Z"
    }
   },
   "cell_type": "code",
   "source": [
    "D = 0.0044\n",
    "L = 1.5 * D\n",
    "fs = 100000"
   ],
   "id": "aecaa7570209d234",
   "outputs": [],
   "execution_count": 12
  },
  {
   "metadata": {
    "ExecuteTime": {
     "end_time": "2025-09-10T14:10:32.148483Z",
     "start_time": "2025-09-10T14:10:29.012161Z"
    }
   },
   "cell_type": "code",
   "source": [
    "def complex_fft(sig, fs):\n",
    "    w = np.hanning(len(sig))\n",
    "    sigw = sig * w\n",
    "    N = len(sigw)\n",
    "    P = fft(sigw)\n",
    "    f = fftfreq(N, 1/fs)\n",
    "    pos = f > 0\n",
    "    return f[pos], P[pos]\n",
    "\n",
    "xf, P1 = complex_fft(p1, fs)\n",
    "_,  P2 = complex_fft(p2, fs)\n",
    "_,  P3 = complex_fft(p3, fs)"
   ],
   "id": "b81bdb87202f6cd8",
   "outputs": [],
   "execution_count": 13
  },
  {
   "metadata": {
    "ExecuteTime": {
     "end_time": "2025-09-10T14:10:32.250399Z",
     "start_time": "2025-09-10T14:10:32.202329Z"
    }
   },
   "cell_type": "code",
   "source": [
    "H = (P1 + P3) / (2.0 * P2)\n",
    "H_mag = np.abs(H)\n",
    "H_real = np.real(H)"
   ],
   "id": "23801fca82a93e63",
   "outputs": [],
   "execution_count": 14
  },
  {
   "metadata": {
    "ExecuteTime": {
     "end_time": "2025-09-10T14:10:32.563980Z",
     "start_time": "2025-09-10T14:10:32.522473Z"
    }
   },
   "cell_type": "code",
   "source": [
    "cutoff_freq = 20000\n",
    "nyquist = fs / 2\n",
    "b, a = signal.butter(4, cutoff_freq/nyquist, 'low')\n",
    "H_filt = signal.filtfilt(b, a, H_real)"
   ],
   "id": "e50a41b2326962d5",
   "outputs": [],
   "execution_count": 15
  },
  {
   "metadata": {},
   "cell_type": "code",
   "outputs": [],
   "execution_count": null,
   "source": [
    "scaler = MinMaxScaler(feature_range=(-1, 1))\n",
    "H_filt = H_filt.reshape(-1, 1)\n",
    "H_norm = scaler.fit_transform(H_filt).flatten()"
   ],
   "id": "1f6fbe27b71519f8"
  },
  {
   "metadata": {
    "ExecuteTime": {
     "end_time": "2025-09-10T14:10:35.762354Z",
     "start_time": "2025-09-10T14:10:35.530318Z"
    }
   },
   "cell_type": "code",
   "source": [
    "plt.figure(figsize=(10,5))\n",
    "plt.plot(xf, H_filt, linewidth=0.8, color='black')\n",
    "plt.xlabel('Frequency[Hz]', fontsize=20)\n",
    "plt.ylabel('H(f) (real)', fontsize=20)\n",
    "plt.tick_params(axis='both', which='major', labelsize=20)\n",
    "plt.grid(True, which='both', ls='--', alpha=0.5)\n",
    "plt.tight_layout()"
   ],
   "id": "14064be9a34d0abb",
   "outputs": [],
   "execution_count": 16
  },
  {
   "metadata": {
    "ExecuteTime": {
     "end_time": "2025-09-10T14:10:37.925439Z",
     "start_time": "2025-09-10T14:10:37.705245Z"
    }
   },
   "cell_type": "code",
   "source": [
    "plt.figure(figsize=(10,5))\n",
    "plt.plot(xf, np.abs(H_filt), linewidth=0.8, color='black')\n",
    "plt.xlabel('Frequency [Hz]', fontsize=20)\n",
    "plt.ylabel('|H(f)|', fontsize=20)\n",
    "plt.tick_params(axis='both', which='major', labelsize=20)\n",
    "plt.grid(True, which='both', ls='--', alpha=0.5)\n",
    "plt.tight_layout()"
   ],
   "id": "64ccb2d0323a1d49",
   "outputs": [],
   "execution_count": 17
  },
  {
   "metadata": {},
   "cell_type": "code",
   "outputs": [],
   "execution_count": null,
   "source": [
    "freq_mask = (xf > 0) & (xf <= 50000)\n",
    "xf_valid = xf[freq_mask]\n",
    "H_norm_valid = H_norm[freq_mask]\n",
    "\n",
    "high_H_mask = np.abs(H_norm_valid) > 0.6\n",
    "high_H_freqs = xf_valid[high_H_mask]\n",
    "high_H_values = H_norm_valid[high_H_mask]"
   ],
   "id": "c0356c3b1a3289b9"
  },
  {
   "metadata": {},
   "cell_type": "code",
   "outputs": [],
   "execution_count": null,
   "source": [
    "c_conf_values = []\n",
    "valid_freqs = []\n",
    "valid_H_values = []"
   ],
   "id": "434cc1b85f2dc8d7"
  },
  {
   "metadata": {},
   "cell_type": "code",
   "outputs": [],
   "execution_count": null,
   "source": [
    "for i, freq in enumerate(xf_valid):\n",
    "    H_val = H_norm_valid[i]\n",
    "    H_val_clipped = np.clip(H_val, -1.0 + 1e-10, 1.0 - 1e-10)\n",
    "\n",
    "    try:\n",
    "        # c_conf = ωL / arccos(H)\n",
    "        omega = 2 * np.pi * freq\n",
    "        c_conf = (omega * L) / np.arccos(H_val_clipped)\n",
    "\n",
    "        # Filtrar valores razonables (50-1500 m/s)\n",
    "        if 40 < c_conf < 140:\n",
    "            c_conf_values.append(c_conf)\n",
    "            valid_freqs.append(freq)\n",
    "            valid_H_values.append(H_val)\n",
    "    except:\n",
    "        continue"
   ],
   "id": "a2e855a7669e7b8e"
  },
  {
   "metadata": {},
   "cell_type": "code",
   "outputs": [],
   "execution_count": null,
   "source": [
    "if c_conf_values:\n",
    "    c_conf_median = np.median(c_conf_values)\n",
    "    c_conf_mean = np.mean(c_conf_values)\n",
    "    c_conf_std = np.std(c_conf_values)\n",
    "\n",
    "    c_conf_final = c_conf_median"
   ],
   "id": "3c5d96df1aebab60"
  },
  {
   "metadata": {},
   "cell_type": "code",
   "outputs": [],
   "execution_count": null,
   "source": [
    "print(\"=\" * 70)\n",
    "print(f\"Puntos válidos encontrados: {len(c_conf_values)}\")\n",
    "print(f\"Velocidad del sonido confinada (c_conf): {c_conf_final:.2f} m/s\")\n",
    "print(f\"Mediana: {c_conf_median:.2f} m/s\")\n",
    "print(f\"Media: {c_conf_mean:.2f} m/s\")\n",
    "print(f\"Desviación estándar: ±{c_conf_std:.2f} m/s\")\n",
    "print(f\"IQR: {c_conf_iqr:.2f} m/s\")\n",
    "print(f\"Rango: {np.min(c_conf_values):.1f} - {np.max(c_conf_values):.1f} m/s\")\n",
    "print(\"=\" * 70)"
   ],
   "id": "5005e36ae943c648"
  },
  {
   "metadata": {},
   "cell_type": "code",
   "outputs": [],
   "execution_count": null,
   "source": [
    "print(\"Algunos valores representativos de c_conf:\")\n",
    "sample_indices = np.linspace(0, len(c_conf_values)-1, min(5, len(c_conf_values)), dtype=int)\n",
    "for idx in sample_indices:\n",
    "    print(f\"f = {valid_freqs[idx]:6.1f} Hz, H = {valid_H_values[idx]:6.3f}, c = {c_conf_values[idx]:6.1f} m/s\")"
   ],
   "id": "5bc406931529c111"
  },
  {
   "metadata": {},
   "cell_type": "code",
   "outputs": [],
   "execution_count": null,
   "source": [
    "c_teorical_avg = c_teorical[6]\n",
    "error_percent = abs(c_conf_final - c_teorical_avg) / c_teorical_avg * 100\n",
    "print(f\"Valor teórico: {c_teorical_avg:.2f} m/s\")\n",
    "print(f\"Error relativo: {error_percent:.1f}%\")\n",
    "print(\"=\" * 70)"
   ],
   "id": "4202d5dca29eb474"
  },
  {
   "metadata": {},
   "cell_type": "code",
   "outputs": [],
   "execution_count": null,
   "source": [
    "fig, ax1 = plt.subplots(1,1, figsize=(15, 6))\n",
    "\n",
    "# Gráfica de H filtrada\n",
    "\n",
    "ax1.plot(xf_valid, H_norm_valid, 'r-', alpha=0.8, linewidth=1.5, label='H Normalizada (sklearn)')\n",
    "ax1.set_xlabel('Frecuencia [Hz]')\n",
    "ax1.set_ylabel('H(ω)')\n",
    "ax1.set_title('Función H(ω) = (P₁ + P₃)/(2·P₂)')\n",
    "ax1.legend()\n",
    "ax1.grid(True)\n",
    "ax1.set_ylim(-1.2, 1.2)\n",
    "\n",
    "\n",
    "print(\"\\n\" + \"=\" * 70)\n",
    "print(\"RESULTADO FINAL\")\n",
    "print(\"=\" * 70)\n",
    "print(f\"Velocidad del sonido confinada estimada: {c_conf_final:.2f} m/s\")\n",
    "print(f\"Basado en {len(c_conf_values)} mediciones válidas\")\n",
    "print(\"=\" * 70)"
   ],
   "id": "1cf18aa4005b1a47"
  },
  {
   "metadata": {
    "ExecuteTime": {
     "end_time": "2025-09-10T16:18:06.315840Z",
     "start_time": "2025-09-10T16:18:03.399408Z"
    }
   },
   "cell_type": "code",
   "source": [
    "import numpy as np\n",
    "import pandas as pd\n",
    "import matplotlib.pyplot as plt\n",
    "from scipy import signal\n",
    "from scipy.fft import fft, fftfreq\n",
    "from pathlib import Path\n",
    "import matplotlib.patches as patches\n",
    "from sklearn.preprocessing import MinMaxScaler\n",
    "\n",
    "# Load data\n",
    "base = Path(\"H:/Outros computadores/My Computer/Desktop/5 Experimento/3-Microphone\")\n",
    "archivo = base / \"T5_3M_T5_AR_4.147m.csv\"\n",
    "df = pd.read_csv(archivo)\n",
    "\n",
    "c_teorical = [138.07, 114.79, 95.36, 91.07, 84.24, 80.43, 75.70, 69.34, 65.54, 64.78, 56.12, 53.45]\n",
    "\n",
    "time = df['Time (s)'].values\n",
    "time_mask = (time >= 18) & (time <= 20.5)\n",
    "p1 = df['Channel 0'].values[time_mask]\n",
    "p2 = df['Channel 1'].values[time_mask]\n",
    "p3 = df['Channel 2'].values[time_mask]\n",
    "\n",
    "D = 0.0044\n",
    "L = 1.5 * D\n",
    "fs = 100000\n",
    "\n",
    "def complex_fft(sig, fs):\n",
    "    w = np.hanning(len(sig))\n",
    "    sigw = sig * w\n",
    "    N = len(sigw)\n",
    "    P = fft(sigw)\n",
    "    f = fftfreq(N, 1 / fs)\n",
    "    pos = f > 0\n",
    "    return f[pos], P[pos]\n",
    "\n",
    "xf, P1 = complex_fft(p1, fs)\n",
    "_, P2 = complex_fft(p2, fs)\n",
    "_, P3 = complex_fft(p3, fs)\n",
    "\n",
    "H = (P1 + P3) / (2.0 * P2)\n",
    "H_real = np.real(H)\n",
    "H_real = np.abs(H_real)\n",
    "\n",
    "cutoff_freq = 20000\n",
    "nyquist = fs / 2\n",
    "b, a = signal.butter(4, cutoff_freq / nyquist, 'low')\n",
    "H_norm = signal.filtfilt(b, a, H_real)\n",
    "\n",
    "freq_mask = (xf > 0) & (xf <= 3500)\n",
    "xf_valid = xf[freq_mask]\n",
    "H_norm_valid = H_norm[freq_mask]\n",
    "\n",
    "# ADJUSTABLE PARAMETERS\n",
    "PEAK_TYPE = 'max'          # 'min' for minima, 'max' for maxima\n",
    "THRESHOLD = 0.0        # Threshold (can be positive or negative)\n",
    "C_CONF_RANGE = (40, 140)   # Acceptable c_conf range\n",
    "\n",
    "if PEAK_TYPE == 'min':\n",
    "    # Find minima\n",
    "    peaks, properties = signal.find_peaks(-H_norm_valid, height=-THRESHOLD, prominence=0.3, distance=10)\n",
    "    peak_freqs = xf_valid[peaks]\n",
    "    peak_H_values = H_norm_valid[peaks]\n",
    "    peak_label = 'Minima'\n",
    "\n",
    "elif PEAK_TYPE == 'max':\n",
    "    # Find maxima\n",
    "    peaks, properties = signal.find_peaks(H_norm_valid, height=THRESHOLD, prominence=0.3, distance=10)\n",
    "    peak_freqs = xf_valid[peaks]\n",
    "    peak_H_values = H_norm_valid[peaks]\n",
    "    peak_label = 'Maxima'\n",
    "else:\n",
    "    # Take all points exceeding the absolute threshold\n",
    "    if THRESHOLD >= 0:\n",
    "        mask = H_norm_valid > THRESHOLD\n",
    "    else:\n",
    "        mask = H_norm_valid < THRESHOLD\n",
    "    peak_freqs = xf_valid[mask]\n",
    "    peak_H_values = H_norm_valid[mask]\n",
    "    peak_label = f'Points H {\"＞\" if THRESHOLD >= 0 else \"＜\"} {THRESHOLD}'\n",
    "\n",
    "# Filter points that meet the threshold criterion\n",
    "if PEAK_TYPE in ['min', 'max']:\n",
    "    if THRESHOLD >= 0:\n",
    "        valid_mask = peak_H_values > THRESHOLD\n",
    "    else:\n",
    "        valid_mask = peak_H_values < THRESHOLD\n",
    "    selected_freqs = peak_freqs[valid_mask]\n",
    "    selected_H = peak_H_values[valid_mask]\n",
    "else:\n",
    "    selected_freqs = peak_freqs\n",
    "    selected_H = peak_H_values\n",
    "\n",
    "c_conf_values = []\n",
    "valid_freqs = []\n",
    "valid_H_values = []\n",
    "\n",
    "for i, freq in enumerate(selected_freqs):\n",
    "    H_val = selected_H[i]\n",
    "    H_val_clipped = np.clip(H_val, -1.0 + 1e-10, 1.0 - 1e-10)\n",
    "\n",
    "    try:\n",
    "        # c_conf = ωL / arccos(H)\n",
    "        omega = 2 * np.pi * freq\n",
    "        c_conf = (omega * L) / np.arccos(H_val_clipped)\n",
    "\n",
    "        # Filter by c_conf range\n",
    "        if C_CONF_RANGE[0] < c_conf < C_CONF_RANGE[1]:\n",
    "            c_conf_values.append(c_conf)\n",
    "            valid_freqs.append(freq)\n",
    "            valid_H_values.append(H_val)\n",
    "    except:\n",
    "        continue\n",
    "\n",
    "if c_conf_values:\n",
    "    c_conf_median = np.median(c_conf_values)\n",
    "    c_conf_mean = np.mean(c_conf_values)\n",
    "    c_conf_std = np.std(c_conf_values)\n",
    "    c_conf_iqr = np.percentile(c_conf_values, 75) - np.percentile(c_conf_values, 25)\n",
    "    c_conf_final = c_conf_mean\n",
    "\n",
    "print(\"=\" * 80)\n",
    "print(\"c_conf CALCULATION - CURRENT CONFIGURATION\")\n",
    "print(\"=\" * 80)\n",
    "print(f\"Point type: {PEAK_TYPE}\")\n",
    "print(f\"Threshold: {THRESHOLD}\")\n",
    "print(f\"c_conf range: {C_CONF_RANGE[0]}-{C_CONF_RANGE[1]} m/s\")\n",
    "print(f\"Points found: {len(selected_freqs)}\")\n",
    "print(f\"Points producing valid c_conf: {len(c_conf_values)}\")\n",
    "\n",
    "if c_conf_values:\n",
    "    print(f\"\\nCONFINED SOUND VELOCITY:\")\n",
    "    print(f\"Average (mean): {c_conf_mean:.2f} m/s\")\n",
    "    print(f\"Median: {c_conf_median:.2f} m/s\")\n",
    "    print(f\"Standard deviation: ±{c_conf_std:.2f} m/s\")\n",
    "    print(f\"Range: {np.min(c_conf_values):.1f} - {np.max(c_conf_values):.1f} m/s\")\n",
    "\n",
    "# MODIFIED GRAPHICS WITH FONT SIZE 20\n",
    "fig, ax = plt.subplots(figsize=(16, 10))\n",
    "\n",
    "# Plot complete H\n",
    "ax.plot(xf_valid, H_norm_valid, color='r', linewidth=0.8, label='|H(ω)| complete')\n",
    "\n",
    "# Mark all found points\n",
    "ax.scatter(selected_freqs, selected_H, color='lightcoral', s=40, alpha=0.6,\n",
    "           label=f'{peak_label} found', edgecolors='none')\n",
    "\n",
    "# Highlight points producing valid c_conf\n",
    "\n",
    "# Threshold line\n",
    "if THRESHOLD >= 0:\n",
    "    ax.axhline(y=THRESHOLD, color='orange', linestyle='--', alpha=0.8,\n",
    "               linewidth=2, label=f'Threshold H = {THRESHOLD}')\n",
    "else:\n",
    "    ax.axhline(y=THRESHOLD, color='orange', linestyle='--', alpha=0.8,\n",
    "               linewidth=2, label=f'Threshold H = {THRESHOLD}')\n",
    "\n",
    "ax.axhline(y=1, color='r', linestyle='--', alpha=0.5, linewidth=1)\n",
    "ax.axhline(y=-1, color='r', linestyle='--', alpha=0.5, linewidth=1)\n",
    "ax.axhline(y=0, color='gray', linestyle=':', alpha=0.3, linewidth=1)\n",
    "\n",
    "# MODIFIED FONT SIZES TO 20\n",
    "ax.set_xlabel('Frequency [Hz]', fontsize=20, fontweight='bold')\n",
    "ax.set_ylabel('|H(ω)|', fontsize=20, fontweight='bold')\n",
    "ax.legend(fontsize=18)\n",
    "ax.grid(True, alpha=0.3)\n",
    "\n",
    "# Set tick label sizes\n",
    "ax.tick_params(axis='both', which='major', labelsize=18)\n",
    "\n",
    "ax.spines['top'].set_visible(False)\n",
    "ax.spines['right'].set_visible(False)\n",
    "\n",
    "# ADD DYNAMIC RECTANGLE BORDER\n",
    "dynamic_rect = None\n",
    "\n",
    "def update_rectangle(event_ax):\n",
    "    global dynamic_rect\n",
    "    if dynamic_rect:\n",
    "        dynamic_rect.remove()\n",
    "\n",
    "    xlim = ax.get_xlim()\n",
    "    ylim = ax.get_ylim()\n",
    "\n",
    "    dynamic_rect = patches.Rectangle(\n",
    "        (xlim[0], ylim[0]),\n",
    "        xlim[1] - xlim[0],\n",
    "        ylim[1] - ylim[0],\n",
    "        linewidth=2,\n",
    "        edgecolor='black',\n",
    "        facecolor='none',\n",
    "        transform=ax.transData,\n",
    "        zorder=10\n",
    "    )\n",
    "    ax.add_patch(dynamic_rect)\n",
    "    fig.canvas.draw_idle()\n",
    "\n",
    "# Connect axis changes to rectangle update\n",
    "ax.callbacks.connect('xlim_changed', update_rectangle)\n",
    "ax.callbacks.connect('ylim_changed', update_rectangle)\n",
    "\n",
    "# Initial rectangle\n",
    "update_rectangle(ax)\n",
    "\n",
    "plt.tight_layout()\n",
    "plt.show()\n",
    "\n",
    "if c_conf_values:\n",
    "    print(f\"\\nPOINTS USED ({len(valid_freqs)}):\")\n",
    "    print(\"Freq [Hz] |   H    | c_conf [m/s]\")\n",
    "    print(\"-\" * 35)\n",
    "    sample_indices = np.linspace(0, len(valid_freqs) - 1, min(10, len(valid_freqs)), dtype=int)\n",
    "    for idx in sample_indices:\n",
    "        print(f\"{valid_freqs[idx]:8.1f} | {valid_H_values[idx]:6.3f} | {c_conf_values[idx]:8.1f}\")\n",
    "\n",
    "    if len(c_teorical) > 10:\n",
    "        c_teorical_avg = c_teorical[4]\n",
    "        error_percent = abs(c_conf_mean - c_teorical_avg) / c_teorical_avg * 100\n",
    "        print(f\"\\nComparison with theoretical:\")\n",
    "        print(f\"Theoretical value: {c_teorical_avg:.2f} m/s\")\n",
    "        print(f\"Relative error: {error_percent:.1f}%\")\n",
    "\n",
    "print(\"=\" * 80)\n",
    "print(\"FINAL RESULT\")\n",
    "print(\"=\" * 80)\n",
    "if c_conf_values:\n",
    "    print(f\"Estimated c_conf: {c_conf_mean:.2f} m/s\")\n",
    "else:\n",
    "    print(\"No valid points found\")\n",
    "print(\"=\" * 80)\n",
    "\n",
    "print(\"\\n\" + \"=\" * 60)\n",
    "print(\"INSTRUCTIONS FOR PARAMETER MODIFICATION:\")\n",
    "print(\"=\" * 60)\n",
    "print(\"Modify these variables in the 'ADJUSTABLE PARAMETERS' section:\")\n",
    "print(\"  PEAK_TYPE = 'min'    # 'min' for minima, 'max' for maxima\")\n",
    "print(\"  THRESHOLD = -0.6     # Threshold (positive or negative)\")\n",
    "print(\"  C_CONF_RANGE = (40, 140)  # Acceptable c_conf range\")\n",
    "print(\"=\" * 60)"
   ],
   "id": "e95f81111a33e4b",
   "outputs": [
    {
     "name": "stdout",
     "output_type": "stream",
     "text": [
      "================================================================================\n",
      "c_conf CALCULATION - CURRENT CONFIGURATION\n",
      "================================================================================\n",
      "Point type: max\n",
      "Threshold: 0.0\n",
      "c_conf range: 40-140 m/s\n",
      "Points found: 273\n",
      "Points producing valid c_conf: 32\n",
      "\n",
      "CONFINED SOUND VELOCITY:\n",
      "Average (mean): 90.10 m/s\n",
      "Median: 92.13 m/s\n",
      "Standard deviation: ±27.83 m/s\n",
      "Range: 45.2 - 133.9 m/s\n",
      "\n",
      "POINTS USED (32):\n",
      "Freq [Hz] |   H    | c_conf [m/s]\n",
      "-----------------------------------\n",
      "   259.2 |  0.994 |     96.9\n",
      "   666.8 |  0.976 |    127.2\n",
      "   799.2 |  0.935 |     91.7\n",
      "   896.8 |  0.781 |     55.1\n",
      "   925.6 |  0.915 |     92.6\n",
      "  1000.0 |  0.735 |     55.7\n",
      "  1057.2 |  0.875 |     86.8\n",
      "  1222.4 |  0.782 |     75.4\n",
      "  1327.2 |  0.905 |    125.5\n",
      "  1567.2 |  0.861 |    122.0\n",
      "\n",
      "Comparison with theoretical:\n",
      "Theoretical value: 84.24 m/s\n",
      "Relative error: 7.0%\n",
      "================================================================================\n",
      "FINAL RESULT\n",
      "================================================================================\n",
      "Estimated c_conf: 90.10 m/s\n",
      "================================================================================\n",
      "\n",
      "============================================================\n",
      "INSTRUCTIONS FOR PARAMETER MODIFICATION:\n",
      "============================================================\n",
      "Modify these variables in the 'ADJUSTABLE PARAMETERS' section:\n",
      "  PEAK_TYPE = 'min'    # 'min' for minima, 'max' for maxima\n",
      "  THRESHOLD = -0.6     # Threshold (positive or negative)\n",
      "  C_CONF_RANGE = (40, 140)  # Acceptable c_conf range\n",
      "============================================================\n"
     ]
    }
   ],
   "execution_count": 64
  },
  {
   "metadata": {
    "ExecuteTime": {
     "end_time": "2025-09-10T18:06:40.736555Z",
     "start_time": "2025-09-10T18:06:40.587212Z"
    }
   },
   "cell_type": "code",
   "source": [
    "import numpy as np\n",
    "import matplotlib.pyplot as plt\n",
    "\n",
    "# Data\n",
    "c_theoretical = np.array([138.07, 114.79, 95.36, 91.07, 84.24, 69.34, 65.54])\n",
    "test1 = np.array([121.12, 101.83, 95.79, 87.86, 82.03, 64.29, 68.15])\n",
    "test2 = np.array([125.45, 100.40, 103.49, 89.34, 87.42, 61.78, 62.15])\n",
    "test3 = np.array([136.11, 105.68, 88.55, 90.84, 83.88, 43.57, 56.83])\n",
    "\n",
    "# Absolute error\n",
    "tests = np.vstack([test1, test2, test3])\n",
    "mean_exp = tests.mean(axis=0)\n",
    "std_exp = tests.std(axis=0)\n",
    "\n",
    "# Plot\n",
    "plt.figure(figsize=(12, 7))\n",
    "plt.errorbar(\n",
    "    np.arange(len(c_theoretical)),\n",
    "    mean_exp,\n",
    "    yerr=std_exp,\n",
    "    fmt='o',\n",
    "    capsize=6,\n",
    "    markersize=8,\n",
    "    label=\"Experimental (mean ± std)\"\n",
    ")\n",
    "plt.plot(c_theoretical, 's--', markersize=8, label=\"Theoretical values\")\n",
    "\n",
    "# Style\n",
    "plt.xlabel(\"Index\", fontsize=20)\n",
    "plt.ylabel(\"Value\", fontsize=20)\n",
    "plt.title(\"Comparison of Theoretical vs Experimental (3 tests) with Error Bars\", fontsize=20)\n",
    "plt.xticks(fontsize=20)\n",
    "plt.yticks(fontsize=20)\n",
    "plt.legend(fontsize=20)\n",
    "\n",
    "plt.tight_layout()\n",
    "plt.show()\n"
   ],
   "id": "bef33beb277f7426",
   "outputs": [
    {
     "data": {
      "text/plain": [
       "<Figure size 1200x700 with 1 Axes>"
      ],
      "image/png": "[encoded data removed]"
     },
     "metadata": {},
     "output_type": "display_data"
    }
   ],
   "execution_count": 2
  },
  {
   "metadata": {},
   "cell_type": "code",
   "outputs": [],
   "execution_count": null,
   "source": "",
   "id": "7a47d485cdbc977a"
  }
 ],
 "metadata": {
  "kernelspec": {
   "display_name": "Python 3",
   "language": "python",
   "name": "python3"
  },
  "language_info": {
   "codemirror_mode": {
    "name": "ipython",
    "version": 2
   },
   "file_extension": ".py",
   "mimetype": "text/x-python",
   "name": "python",
   "nbconvert_exporter": "python",
   "pygments_lexer": "ipython2",
   "version": "2.7.6"
  }
 },
 "nbformat": 4,
 "nbformat_minor": 5
}
